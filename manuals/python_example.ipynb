{
 "cells": [
  {
   "cell_type": "code",
   "execution_count": null,
   "metadata": {},
   "outputs": [],
   "source": [
    "import numpy as np\n",
    "import ilmsens_hal\n",
    "import ilmsens_hal.utils\n",
    "import matplotlib.pyplot as plt\n",
    "from ilmsens_hal.defn import meas_run\n",
    "from ilmsens_hal.types import ilmsens_hal_ModConfig\n",
    "from ilmsens_hal.defn import meas_config\n",
    "from ilmsens_hal.defn import config\n",
    "from ilmsens_hal.defn import diag\n",
    "import matplotlib.pyplot as plt\n"
   ]
  },
  {
   "cell_type": "markdown",
   "metadata": {},
   "source": [
    "Print HAL version"
   ]
  },
  {
   "cell_type": "code",
   "execution_count": null,
   "metadata": {},
   "outputs": [],
   "source": [
    "\n",
    "ver = ilmsens_hal.getVersion()\n",
    "print(f\"HAL Version: {ver.mMajor}.{ver.mMinor}.{ver.mBuild}\")"
   ]
  },
  {
   "cell_type": "markdown",
   "metadata": {},
   "source": [
    "Initialize the HAL and set the debugging level"
   ]
  },
  {
   "cell_type": "code",
   "execution_count": null,
   "metadata": {},
   "outputs": [],
   "source": [
    "\n",
    "_ = ilmsens_hal.setDEBLevel(diag.ILMSENS_DEB_NO)\n",
    "num_devices = ilmsens_hal.initHAL()\n",
    "connected_devices = list(range(1, num_devices+1))\n",
    "print(f\"Found {num_devices} connected devices\")"
   ]
  },
  {
   "cell_type": "markdown",
   "metadata": {},
   "source": [
    "Get the unique device identifier of each connected sensor"
   ]
  },
  {
   "cell_type": "code",
   "execution_count": null,
   "metadata": {},
   "outputs": [],
   "source": [
    "\n",
    "for idx in connected_devices:\n",
    "    device_id = ilmsens_hal.getModId(idx)\n",
    "    print(f\"Sensor #{idx} has ID '{device_id.decode()}' (result was {len(device_id)}).\")"
   ]
  },
  {
   "cell_type": "markdown",
   "metadata": {},
   "source": [
    "Select and open the first sensor and get the sensor unique device identifier"
   ]
  },
  {
   "cell_type": "code",
   "execution_count": null,
   "metadata": {},
   "outputs": [],
   "source": [
    "\n",
    "selected_device_idx = 1\n",
    "_ = ilmsens_hal.openSensors([selected_device_idx])"
   ]
  },
  {
   "cell_type": "markdown",
   "metadata": {},
   "source": [
    "Set the sensor's configuration using the `ilmsens_hal_ModConfig` object"
   ]
  },
  {
   "cell_type": "code",
   "execution_count": null,
   "metadata": {},
   "outputs": [],
   "source": [
    "\n",
    "mod_config = ilmsens_hal_ModConfig()\n",
    "mod_config.mClk = 13.312\n",
    "mod_config.mOV = 0 # 0 = use default\n",
    "mod_config.mOrder = 9\n",
    "mod_config.mRx = 2\n",
    "mod_config.mSub = 0 # 0 = use default\n",
    "mod_config.mTx = 0 # 0 = use default\n",
    "\n",
    "swavg = 32 # num of software averages\n",
    "wait_cyc = 0\n",
    "\n",
    "ilmsens_hal.setupSensors([selected_device_idx], mod_config)\n",
    "\n",
    "# set the sensor as Master\n",
    "ilmsens_hal.setMaster([selected_device_idx], config.ILMSENS_HAL_MASTER_SENSOR)\n",
    "\n",
    "# restart the digital synchronization\n",
    "ilmsens_hal.synchMS([selected_device_idx], meas_config.ILMSENS_HAL_SYNCH_OFF)\n",
    "ilmsens_hal.synchMS([selected_device_idx], meas_config.ILMSENS_HAL_SYNCH_ON)\n",
    "\n",
    "# reset the M-sequence generator (transmitter)\n",
    "ilmsens_hal.setMLBS([selected_device_idx])\n",
    "\n",
    "# set the software averages and wait cycles (0 means snapshot mode)\n",
    "ilmsens_hal.setAvg([selected_device_idx], swavg, wait_cyc)"
   ]
  },
  {
   "cell_type": "markdown",
   "metadata": {},
   "source": [
    "Show the sensor's information and configuration to confirm"
   ]
  },
  {
   "cell_type": "code",
   "execution_count": null,
   "metadata": {},
   "outputs": [],
   "source": [
    "\n",
    "info = ilmsens_hal.getModInfo(selected_device_idx)\n",
    "print(\"Configuration of selected sensor is :\")\n",
    "print(\"* RF system clock    [GHz]: {:.6f}\".format(info.mConfig.mClk))\n",
    "print(\"* MLBS order              : {}\".format(info.mConfig.mOrder))\n",
    "print(\"* Prescaler           1/  : {}\".format(info.mConfig.mSub))\n",
    "print(\"* Oversampling        x   : {}\".format(info.mConfig.mOV))\n",
    "print(\"* Number of Tx            : {}\".format(info.mConfig.mTx))\n",
    "print(\"* Number of Rx            : {}\".format(info.mConfig.mRx))\n",
    "print(\"* Number of samples per Rx: {}\".format(info.mNumSamp))\n",
    "print(\"* Hardware averages       : {}\".format(info.mHWAvg))\n",
    "print(\"* Software avg. limits    : [{} .. {}]\".format(info.mAvgLim[0], info.mAvgLim[1]))\n",
    "print(\"* Software averages       : {}\".format(info.mAvg))\n",
    "print(\"* Wait cycle limits       : [{} .. {}]\".format(info.mWaitLim[0], info.mWaitLim[1]))\n",
    "print(\"* Wait cycles             : {}\".format(info.mWait))\n",
    "print(\"* ADC full scale range [V]: [{:.6f} .. {:.6f}]\".format(info.mFSR[0], info.mFSR[1]))\n",
    "print(\"* ADC LSB voltage     [mV]: {:.6f}\".format(info.mLSB_Volt*1000.0))\n",
    "print(\"* Int. temperature    [\\370C]: {:.2f}\".format(info.mTemp))"
   ]
  },
  {
   "cell_type": "markdown",
   "metadata": {},
   "source": [
    "Turn on the transmitter"
   ]
  },
  {
   "cell_type": "code",
   "execution_count": null,
   "metadata": {},
   "outputs": [],
   "source": [
    "\n",
    "ilmsens_hal.setPD([selected_device_idx], meas_config.ILMSENS_HAL_TX_ON)"
   ]
  },
  {
   "cell_type": "markdown",
   "metadata": {},
   "source": [
    "Run measurement, wait for the data transfer, then stop the measurement.  \n",
    "Get the output data and process it using the `ilmsens_hal.utils` module."
   ]
  },
  {
   "cell_type": "code",
   "execution_count": null,
   "metadata": {},
   "outputs": [],
   "source": [
    "\n",
    "ilmsens_hal.measRun([selected_device_idx], meas_run.ILMSENS_HAL_RUN_BUF)\n",
    "\n",
    "# wait for the data transfer\n",
    "data, _ = ilmsens_hal.measGet([selected_device_idx], timeout_millis=100)\n",
    "\n",
    "ilmsens_hal.measStop([selected_device_idx])\n",
    "\n",
    "data = ilmsens_hal.utils.parse_data(data)\n",
    "data = np.array(data['rx1_samples'], dtype=np.double)\n",
    "\n",
    "# scale data to represent physical voltage\n",
    "averages = info.mHWAvg * swavg\n",
    "value_scale = 1.0 / averages * info.mLSB_Volt\n",
    "off_value = 0.0\n",
    "data = (data - off_value) * value_scale\n",
    "\n",
    "# get the ideal sequence, time axis, and frequency axis.\n",
    "dependencies = ilmsens_hal.utils.read_dependencies(mDR_MLBS_Order=9, mDR_F0_Clk=13.312, mDR_OV=1)\n",
    "\n",
    "# correlate the data with the ideal sequence\n",
    "data = np.fft.fft(data, axis=0)\n",
    "ideal_ref_spec = dependencies['mDR_Ref_Spec']\n",
    "data = data * ideal_ref_spec[:]\n",
    "data = np.fft.ifft(data, axis=0)\n",
    "\n",
    "# plot the processed impulse response\n",
    "plt.figure(figsize=(25, 5))\n",
    "plt.plot(data)\n",
    "plt.grid(which='both')\n",
    "plt.minorticks_on()\n",
    "plt.ylim([-1, 1])\n",
    "plt.xlim([0, 511])"
   ]
  },
  {
   "cell_type": "markdown",
   "metadata": {},
   "source": [
    "Close sensors and deinitialize the HAL"
   ]
  },
  {
   "cell_type": "code",
   "execution_count": null,
   "metadata": {},
   "outputs": [],
   "source": [
    "\n",
    "ilmsens_hal.closeSensors(connected_devices)\n",
    "ilmsens_hal.deinitHAL()"
   ]
  }
 ],
 "metadata": {
  "kernelspec": {
   "display_name": "ilmsens",
   "language": "python",
   "name": "python3"
  },
  "language_info": {
   "codemirror_mode": {
    "name": "ipython",
    "version": 3
   },
   "file_extension": ".py",
   "mimetype": "text/x-python",
   "name": "python",
   "nbconvert_exporter": "python",
   "pygments_lexer": "ipython3",
   "version": "3.9.18"
  }
 },
 "nbformat": 4,
 "nbformat_minor": 2
}
